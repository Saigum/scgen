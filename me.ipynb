{
 "cells": [
  {
   "cell_type": "code",
   "execution_count": 1,
   "metadata": {},
   "outputs": [],
   "source": [
    "from torch.nn import functional as f\n",
    "from torch import nn, optim\n",
    "import torch as th\n",
    "import numpy as np\n",
    "from torch.utils.data import DataLoader,Dataset\n",
    "from  preprocessing import load_data\n",
    "import argparse\n",
    "from tqdm import tqdm\n",
    "import scanpy as sc\n",
    "from torch.distributions import Normal\n",
    "device = th.device(\"cuda\" if th.cuda.is_available() else \"cpu\")\n",
    "\n",
    "\n",
    "\n",
    "class VAE(nn.Module):\n",
    "    def __init__(self,input_dim,hidden_layers,latent_dim):\n",
    "        layers = [input_dim] + hidden_layers\n",
    "        layers.append(latent_dim)\n",
    "        self.encoder_block = nn.Sequential([nn.Sequential\n",
    "                                            (nn.Linear(layers[i],layers[i+1]),nn.ReLU()) \n",
    "                                            for i in range(len(layers)-1)])\n",
    "        self.decoder_block = nn.Sequential([nn.Sequential\n",
    "                                            (nn.Linear(layers[i],layers[i-1]),nn.ReLU()) \n",
    "                                            for i in range(len(layers)-1,-1,-1)])\n",
    "        self.mu = nn.Sequential(nn.Linear(latent_dim,latent_dim),nn.ReLU())\n",
    "        self.logvar = nn.Sequential(nn.Linear(latent_dim,latent_dim),nn.ReLU())\n",
    "        self.normal = Normal(0,1)\n",
    "        self.latent_dim = latent_dim\n",
    "    def reparametrize(self,mu:th.Tensor,logvar:th.Tensor):\n",
    "        return(mu + (th.exp(0.5*logvar)*self.normal.sample(sample_shape=self.latent_dim)))\n",
    "    def forward(self,x):\n",
    "        encoded = self.encoder_block(x)\n",
    "        mu,logvar = self.mu(encoded),self.logvar(encoded)\n",
    "        decoded = self.decoder_block(self.reparametrize(mu,logvar))\n",
    "        return decoded,mu,logvar\n",
    "class TrainingCellData(Dataset):\n",
    "    def __init__(self,adata,is_perturbed=0):\n",
    "        self.adata = adata\n",
    "        self.is_perturbed = is_perturbed\n",
    "    def __getitem__(self, index):\n",
    "        gene_vector = th.zeros(self.adata.shape[1])\n",
    "        gene_vector = self.adata.X[index]\n",
    "        return gene_vector\n",
    "    def __len__(self):\n",
    "        return(self.adata.shape[0])\n",
    "    \n"
   ]
  },
  {
   "cell_type": "code",
   "execution_count": 8,
   "metadata": {},
   "outputs": [
    {
     "name": "stderr",
     "output_type": "stream",
     "text": [
      "c:\\Users\\saira\\anaconda3\\envs\\Pytorch\\Lib\\site-packages\\anndata\\compat\\__init__.py:329: FutureWarning: Moving element from .uns['neighbors']['distances'] to .obsp['distances'].\n",
      "\n",
      "This is where adjacency matrices should go now.\n",
      "  warn(\n",
      "c:\\Users\\saira\\anaconda3\\envs\\Pytorch\\Lib\\site-packages\\anndata\\compat\\__init__.py:329: FutureWarning: Moving element from .uns['neighbors']['connectivities'] to .obsp['connectivities'].\n",
      "\n",
      "This is where adjacency matrices should go now.\n",
      "  warn(\n"
     ]
    },
    {
     "name": "stdout",
     "output_type": "stream",
     "text": [
      "['NK', 'FCGR3A+Mono', 'B', 'Dendritic', 'CD14+Mono', 'CD4T', 'CD8T']\n",
      "CD4T\n"
     ]
    },
    {
     "name": "stderr",
     "output_type": "stream",
     "text": [
      "c:\\Users\\saira\\anaconda3\\envs\\Pytorch\\Lib\\site-packages\\anndata\\compat\\__init__.py:329: FutureWarning: Moving element from .uns['neighbors']['distances'] to .obsp['distances'].\n",
      "\n",
      "This is where adjacency matrices should go now.\n",
      "  warn(\n",
      "c:\\Users\\saira\\anaconda3\\envs\\Pytorch\\Lib\\site-packages\\anndata\\compat\\__init__.py:329: FutureWarning: Moving element from .uns['neighbors']['connectivities'] to .obsp['connectivities'].\n",
      "\n",
      "This is where adjacency matrices should go now.\n",
      "  warn(\n"
     ]
    }
   ],
   "source": [
    "train_adata = sc.read_h5ad(r\"C:\\Users\\saira\\OneDrive\\Desktop\\scgen\\train_pbmc.h5ad\")\n",
    "val_adata= sc.read_h5ad(r\"C:\\Users\\saira\\OneDrive\\Desktop\\scgen\\train_pbmc.h5ad\")\n",
    "cell_types = list(set(train_adata.obs[\"cell_type\"]))\n",
    "print(cell_types)\n",
    "holdout_cell = np.random.choice(np.array(cell_types))\n",
    "print(holdout_cell)\n",
    "cell_mask = (train_adata.obs[\"cell_type\"]==holdout_cell)\n",
    "cell_mask = cell_mask.values\n",
    "holdoutcelltype_adata = train_adata[cell_mask]\n",
    "holdout_control = holdoutcelltype_adata[holdoutcelltype_adata.obs[\"condition\"] ==\"control\"]\n",
    "holdout_stim = holdoutcelltype_adata[holdoutcelltype_adata.obs[\"condition\"] ==\"stimulated\"]\n",
    "train_adata = train_adata[0==cell_mask]"
   ]
  },
  {
   "cell_type": "code",
   "execution_count": 16,
   "metadata": {},
   "outputs": [
    {
     "name": "stdout",
     "output_type": "stream",
     "text": [
      "Common Names: {'GTAGCCCTAGACTC-1', 'CTCCACGAACGGGA-1', 'GGAACACTTTCGGA-1', 'TAGGTTCTTCTACT-1', 'ACAAATTGTAGAAG-1', 'TAAGGCTGTCAAGC-1', 'GAATGGCTCTCAAG-1', 'GGGATGGATGCCCT-1', 'CACCTGACTGACTG-1'}\n"
     ]
    }
   ],
   "source": [
    "def find_common_names(stimulated_names, control_names):\n",
    "    processed_stimulated = [name.replace('-stimulated', '') for name in stimulated_names]\n",
    "    processed_control = [name.replace('-control', '') for name in control_names]\n",
    "    common_names = set(processed_stimulated).intersection(processed_control)\n",
    "    print(\"Common Names:\", common_names)\n",
    "find_common_names(holdout_stim.obs_names, holdout_control.obs_names.values)"
   ]
  },
  {
   "cell_type": "code",
   "execution_count": null,
   "metadata": {},
   "outputs": [
    {
     "name": "stdout",
     "output_type": "stream",
     "text": [
      "2437\n"
     ]
    },
    {
     "ename": "AttributeError",
     "evalue": "'AnnData' object has no attribute 'iloc'",
     "output_type": "error",
     "traceback": [
      "\u001b[1;31m---------------------------------------------------------------------------\u001b[0m",
      "\u001b[1;31mAttributeError\u001b[0m                            Traceback (most recent call last)",
      "Cell \u001b[1;32mIn[9], line 19\u001b[0m\n\u001b[0;32m     17\u001b[0m \u001b[38;5;28mprint\u001b[39m(\u001b[38;5;28mlen\u001b[39m(holdout_data))\n\u001b[0;32m     18\u001b[0m holdoutloader \u001b[38;5;241m=\u001b[39m DataLoader(holdout_data)\n\u001b[1;32m---> 19\u001b[0m \u001b[38;5;28;43;01mfor\u001b[39;49;00m\u001b[43m \u001b[49m\u001b[43mctrl\u001b[49m\u001b[43m,\u001b[49m\u001b[43mstim\u001b[49m\u001b[43m \u001b[49m\u001b[38;5;129;43;01min\u001b[39;49;00m\u001b[43m \u001b[49m\u001b[43mholdoutloader\u001b[49m\u001b[43m:\u001b[49m\n\u001b[0;32m     20\u001b[0m \u001b[43m    \u001b[49m\u001b[38;5;28;43mprint\u001b[39;49m\u001b[43m(\u001b[49m\u001b[43mctrl\u001b[49m\u001b[43m,\u001b[49m\u001b[43mstim\u001b[49m\u001b[43m)\u001b[49m\n",
      "File \u001b[1;32mc:\\Users\\saira\\anaconda3\\envs\\Pytorch\\Lib\\site-packages\\torch\\utils\\data\\dataloader.py:630\u001b[0m, in \u001b[0;36m_BaseDataLoaderIter.__next__\u001b[1;34m(self)\u001b[0m\n\u001b[0;32m    627\u001b[0m \u001b[38;5;28;01mif\u001b[39;00m \u001b[38;5;28mself\u001b[39m\u001b[38;5;241m.\u001b[39m_sampler_iter \u001b[38;5;129;01mis\u001b[39;00m \u001b[38;5;28;01mNone\u001b[39;00m:\n\u001b[0;32m    628\u001b[0m     \u001b[38;5;66;03m# TODO(https://github.com/pytorch/pytorch/issues/76750)\u001b[39;00m\n\u001b[0;32m    629\u001b[0m     \u001b[38;5;28mself\u001b[39m\u001b[38;5;241m.\u001b[39m_reset()  \u001b[38;5;66;03m# type: ignore[call-arg]\u001b[39;00m\n\u001b[1;32m--> 630\u001b[0m data \u001b[38;5;241m=\u001b[39m \u001b[38;5;28;43mself\u001b[39;49m\u001b[38;5;241;43m.\u001b[39;49m\u001b[43m_next_data\u001b[49m\u001b[43m(\u001b[49m\u001b[43m)\u001b[49m\n\u001b[0;32m    631\u001b[0m \u001b[38;5;28mself\u001b[39m\u001b[38;5;241m.\u001b[39m_num_yielded \u001b[38;5;241m+\u001b[39m\u001b[38;5;241m=\u001b[39m \u001b[38;5;241m1\u001b[39m\n\u001b[0;32m    632\u001b[0m \u001b[38;5;28;01mif\u001b[39;00m \u001b[38;5;28mself\u001b[39m\u001b[38;5;241m.\u001b[39m_dataset_kind \u001b[38;5;241m==\u001b[39m _DatasetKind\u001b[38;5;241m.\u001b[39mIterable \u001b[38;5;129;01mand\u001b[39;00m \\\n\u001b[0;32m    633\u001b[0m         \u001b[38;5;28mself\u001b[39m\u001b[38;5;241m.\u001b[39m_IterableDataset_len_called \u001b[38;5;129;01mis\u001b[39;00m \u001b[38;5;129;01mnot\u001b[39;00m \u001b[38;5;28;01mNone\u001b[39;00m \u001b[38;5;129;01mand\u001b[39;00m \\\n\u001b[0;32m    634\u001b[0m         \u001b[38;5;28mself\u001b[39m\u001b[38;5;241m.\u001b[39m_num_yielded \u001b[38;5;241m>\u001b[39m \u001b[38;5;28mself\u001b[39m\u001b[38;5;241m.\u001b[39m_IterableDataset_len_called:\n",
      "File \u001b[1;32mc:\\Users\\saira\\anaconda3\\envs\\Pytorch\\Lib\\site-packages\\torch\\utils\\data\\dataloader.py:673\u001b[0m, in \u001b[0;36m_SingleProcessDataLoaderIter._next_data\u001b[1;34m(self)\u001b[0m\n\u001b[0;32m    671\u001b[0m \u001b[38;5;28;01mdef\u001b[39;00m \u001b[38;5;21m_next_data\u001b[39m(\u001b[38;5;28mself\u001b[39m):\n\u001b[0;32m    672\u001b[0m     index \u001b[38;5;241m=\u001b[39m \u001b[38;5;28mself\u001b[39m\u001b[38;5;241m.\u001b[39m_next_index()  \u001b[38;5;66;03m# may raise StopIteration\u001b[39;00m\n\u001b[1;32m--> 673\u001b[0m     data \u001b[38;5;241m=\u001b[39m \u001b[38;5;28;43mself\u001b[39;49m\u001b[38;5;241;43m.\u001b[39;49m\u001b[43m_dataset_fetcher\u001b[49m\u001b[38;5;241;43m.\u001b[39;49m\u001b[43mfetch\u001b[49m\u001b[43m(\u001b[49m\u001b[43mindex\u001b[49m\u001b[43m)\u001b[49m  \u001b[38;5;66;03m# may raise StopIteration\u001b[39;00m\n\u001b[0;32m    674\u001b[0m     \u001b[38;5;28;01mif\u001b[39;00m \u001b[38;5;28mself\u001b[39m\u001b[38;5;241m.\u001b[39m_pin_memory:\n\u001b[0;32m    675\u001b[0m         data \u001b[38;5;241m=\u001b[39m _utils\u001b[38;5;241m.\u001b[39mpin_memory\u001b[38;5;241m.\u001b[39mpin_memory(data, \u001b[38;5;28mself\u001b[39m\u001b[38;5;241m.\u001b[39m_pin_memory_device)\n",
      "File \u001b[1;32mc:\\Users\\saira\\anaconda3\\envs\\Pytorch\\Lib\\site-packages\\torch\\utils\\data\\_utils\\fetch.py:52\u001b[0m, in \u001b[0;36m_MapDatasetFetcher.fetch\u001b[1;34m(self, possibly_batched_index)\u001b[0m\n\u001b[0;32m     50\u001b[0m         data \u001b[38;5;241m=\u001b[39m \u001b[38;5;28mself\u001b[39m\u001b[38;5;241m.\u001b[39mdataset\u001b[38;5;241m.\u001b[39m__getitems__(possibly_batched_index)\n\u001b[0;32m     51\u001b[0m     \u001b[38;5;28;01melse\u001b[39;00m:\n\u001b[1;32m---> 52\u001b[0m         data \u001b[38;5;241m=\u001b[39m [\u001b[38;5;28;43mself\u001b[39;49m\u001b[38;5;241;43m.\u001b[39;49m\u001b[43mdataset\u001b[49m\u001b[43m[\u001b[49m\u001b[43midx\u001b[49m\u001b[43m]\u001b[49m \u001b[38;5;28;01mfor\u001b[39;00m idx \u001b[38;5;129;01min\u001b[39;00m possibly_batched_index]\n\u001b[0;32m     53\u001b[0m \u001b[38;5;28;01melse\u001b[39;00m:\n\u001b[0;32m     54\u001b[0m     data \u001b[38;5;241m=\u001b[39m \u001b[38;5;28mself\u001b[39m\u001b[38;5;241m.\u001b[39mdataset[possibly_batched_index]\n",
      "Cell \u001b[1;32mIn[9], line 6\u001b[0m, in \u001b[0;36mHoldoutCellData.__getitem__\u001b[1;34m(self, idx)\u001b[0m\n\u001b[0;32m      5\u001b[0m \u001b[38;5;28;01mdef\u001b[39;00m \u001b[38;5;21m__getitem__\u001b[39m(\u001b[38;5;28mself\u001b[39m,idx):\n\u001b[1;32m----> 6\u001b[0m     ctrl_vector \u001b[38;5;241m=\u001b[39m \u001b[38;5;28;43mself\u001b[39;49m\u001b[38;5;241;43m.\u001b[39;49m\u001b[43madata_ctrl\u001b[49m\u001b[38;5;241;43m.\u001b[39;49m\u001b[43miloc\u001b[49m[idx]\n\u001b[0;32m      7\u001b[0m     cell_name \u001b[38;5;241m=\u001b[39m \u001b[38;5;28mself\u001b[39m\u001b[38;5;241m.\u001b[39madata_ctrl\u001b[38;5;241m.\u001b[39mindex[idx]\n\u001b[0;32m      8\u001b[0m     \u001b[38;5;28;01mtry\u001b[39;00m:\n",
      "\u001b[1;31mAttributeError\u001b[0m: 'AnnData' object has no attribute 'iloc'"
     ]
    }
   ],
   "source": [
    "class HoldoutCellData(Dataset):\n",
    "    def __init__(self,adata_stim,adata_ctrl):\n",
    "        self.adata_ctrl = adata_ctrl\n",
    "        self.adata_stim = adata_stim\n",
    "    def __getitem__(self,idx):\n",
    "        ctrl_vector = self.adata_ctrl.X[idx]\n",
    "        cell_name = self.adata_ctrl.index[idx]\n",
    "        try:\n",
    "            stim_vector = self.adata_stim[f\"{cell_name}-stimulated\"]\n",
    "        except:\n",
    "            stim_vector = None\n",
    "        return(ctrl_vector,stim_vector)\n",
    "    def __len__(self):\n",
    "        return(self.adata_ctrl.shape[0])\n",
    "    \n",
    "holdout_data = HoldoutCellData(holdout_stim,holdout_control)\n",
    "print(len(holdout_data))\n",
    "holdoutloader = DataLoader(holdout_data)\n",
    "for ctrl,stim in holdoutloader:\n",
    "    print(ctrl,stim)\n",
    "    \n",
    "    \n"
   ]
  },
  {
   "cell_type": "code",
   "execution_count": 7,
   "metadata": {},
   "outputs": [
    {
     "name": "stdout",
     "output_type": "stream",
     "text": [
      "View of AnnData object with n_obs × n_vars = 0 × 6998\n",
      "    obs: 'condition', 'n_counts', 'n_genes', 'mt_frac', 'cell_type'\n",
      "    var: 'gene_symbol', 'n_cells'\n",
      "    uns: 'cell_type_colors', 'condition_colors', 'neighbors'\n",
      "    obsm: 'X_pca', 'X_tsne', 'X_umap'\n",
      "    obsp: 'distances', 'connectivities'\n"
     ]
    }
   ],
   "source": [
    "print(holdout_stim)"
   ]
  },
  {
   "cell_type": "code",
   "execution_count": null,
   "metadata": {},
   "outputs": [],
   "source": [
    "\n",
    "hvg_size = 2000\n",
    "train_set = TrainingCellData(train_adata)\n",
    "val_set = TrainingCellData(val_adata)\n",
    "trainloader = DataLoader(train_set,batch_size=4)\n",
    "valloader =DataLoader(val_set,batch_size=4)\n",
    "\n",
    "hidden_layers = [512,256,128]\n",
    "latent_dim=64\n",
    "num_epochs = 100\n",
    "lr = 3e3\n",
    "model = VAE(hvg_size,hidden_layers,latent_dim).to(device)\n",
    "optimizer = optim.adagrad(VAE.parameters(),lr)\n",
    "\n",
    "with tqdm(total=len(trainloader)*num_epochs) as pbar:\n",
    "    ### training phase\n",
    "    for epoch in range(1,num_epochs+1):\n",
    "        epoch_wise_recon_loss =0\n",
    "        epoch_wise_kl_loss = 0\n",
    "        for batch in trainloader:\n",
    "            optimizer.zero_grad()\n",
    "            reconstruction,mu,logvar = model(batch.to(device))\n",
    "            recon_loss = f.mse_loss(reconstruction,batch)\n",
    "            kl_loss = 0.5*(-logvar -1 +th.exp(logvar) + mu@mu.T).sum()\n",
    "            loss = recon_loss + kl_loss\n",
    "            loss.backward()\n",
    "            optimizer.step()\n",
    "            pbar.write(f'Loss: {loss.item()}')\n",
    "            pbar.update()\n",
    "            epoch_wise_recon_loss += recon_loss\n",
    "            epoch_wise_kl_loss += kl_loss\n",
    "        epoch_wise_kl_loss = epoch_wise_kl_loss/len(trainloader)\n",
    "        epoch_wise_recon_loss = epoch_wise_recon_loss/len(trainloader)\n",
    "        print(f\"Recon Loss for epoch {epoch} is {epoch_wise_recon_loss}\")\n",
    "        print(f\"KL Loss for epoch {epoch} is {epoch_wise_kl_loss}\")\n",
    "\n",
    "        ## validation phase.\n",
    "        with tqdm(total=len(valloader),leave=False) as pbar:\n",
    "            epoch_wise_recon_loss =0\n",
    "            epoch_wise_kl_loss = 0\n",
    "            model.eval()\n",
    "            with th.no_grad():\n",
    "                for batch in valloader:\n",
    "                    reconstruction,mu,logvar = model(batch.to(device))\n",
    "                    recon_loss = f.mse_loss(reconstruction,batch)\n",
    "                    kl_loss = 0.5*(-logvar -1 +th.exp(logvar) + mu@mu.T).sum()\n",
    "                    epoch_wise_recon_loss += recon_loss.item()\n",
    "                    epoch_wise_kl_loss += kl_loss\n",
    "                epoch_wise_kl_loss = epoch_wise_kl_loss/len(valloader)\n",
    "                epoch_wise_recon_loss = epoch_wise_recon_loss/len(valloader)\n",
    "                print(f\"Val Recon Loss for epoch {epoch} is {epoch_wise_recon_loss}\")\n",
    "                print(f\"Val KL Loss for epoch {epoch} is {epoch_wise_kl_loss}\")\n",
    "            ## now let's calculate  how well it predicts the 100 degs\n",
    "            ## and how well it predicts the actual \n",
    "            with th.no_grad():\n",
    "                for cells in holdout_set:\n",
    "                    unperturbed_latent,mu,logvar = model(cells)\n",
    "                    \n",
    "\n",
    "\n",
    "\n",
    "\n",
    "                \n",
    "\n",
    "            \n",
    "\n",
    "            \n",
    "\n",
    "\n",
    "        \n",
    "    \n",
    "\n",
    "\n",
    "\n",
    "\n",
    "\n",
    "        "
   ]
  }
 ],
 "metadata": {
  "kernelspec": {
   "display_name": "Pytorch",
   "language": "python",
   "name": "python3"
  },
  "language_info": {
   "codemirror_mode": {
    "name": "ipython",
    "version": 3
   },
   "file_extension": ".py",
   "mimetype": "text/x-python",
   "name": "python",
   "nbconvert_exporter": "python",
   "pygments_lexer": "ipython3",
   "version": "3.12.3"
  }
 },
 "nbformat": 4,
 "nbformat_minor": 2
}
