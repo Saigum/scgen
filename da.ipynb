{
 "cells": [
  {
   "cell_type": "code",
   "execution_count": 1,
   "metadata": {},
   "outputs": [],
   "source": [
    "import scanpy as sc\n",
    "import anndata as ad\n",
    "import numpy as np\n",
    "from scipy.stats import median_abs_deviation\n",
    "import pandas as pd\n",
    "\n",
    "def is_outlier(adata, metric: str, nmads: int):\n",
    "    M = adata.obs[metric]\n",
    "    outlier = (M < np.median(M) - nmads * median_abs_deviation(M)) | (\n",
    "        np.median(M) + nmads * median_abs_deviation(M) < M\n",
    "    )\n",
    "    return outlier\n",
    "\n",
    "def preprocess_data(adata:ad.AnnData):\n",
    "    adata.var_names_make_unique()\n",
    "    adata.obs_names_make_unique()\n",
    "    ## outlier removal ????\n",
    "    ##  log-normalization.\n",
    "    sc.pp.normalize_total(adata,target_sum=1e4)\n",
    "    ## remove mt genes ??\n",
    "    \n",
    "\n",
    "\n",
    "import pandas as pd\n",
    "\n",
    "def load_data(dataset_str):\n",
    "    if(dataset_str==\"pbmc\"):\n",
    "        adata_unstimulated = sc.read_mtx(\"../datasets/pbmc_perturb/sample2.1/GSM2560248_2.1.mtx.gz\").T\n",
    "        adata_stimulated = sc.read_mtx(\"../datasets/pbmc_perturb/sample2.2/GSM2560249_2.2.mtx.gz\").T\n",
    "        adata_stimulated.var_names_make_unique()\n",
    "        adata_unstimulated.var_names_make_unique()\n",
    "        adata_stimulated.obs_names_make_unique(),adata_unstimulated.obs_names_make_unique(),\n",
    "        gene_names_1 = pd.read_csv(r\"C:\\Users\\saira\\OneDrive\\Desktop\\research\\datasets\\pbmc_perturb\\sampleA_unstimulated\\GSE96583_batch1.genes.tsv.gz\",delimiter=\"\\t\",header=None)\n",
    "        gene_names_2 =pd.read_csv(r\"C:\\Users\\saira\\OneDrive\\Desktop\\research\\datasets\\pbmc_perturb\\sampleB_stimulated\\GSE96583_batch2.genes.tsv.gz\",delimiter=\"\\t\",header=None)\n",
    "        ####\n",
    "        gene_names_1 = gene_names_1.rename(columns={\n",
    "        gene_names_1.columns[0]:\"geneID\",\n",
    "        gene_names_1.columns[1]:\"geneName\"\n",
    "         })\n",
    "        gene_names_2 = gene_names_2.rename(columns={\n",
    "            gene_names_2.columns[0]:\"geneID\",\n",
    "            gene_names_2.columns[1]:\"geneName\"\n",
    "        })\n",
    "        #####\n",
    "        #######\n",
    "        barcodes_2 = pd.read_csv(r\"C:\\Users\\saira\\OneDrive\\Desktop\\research\\datasets\\pbmc_perturb\\sampleB_stimulated\\GSM2560249_barcodes.tsv.gz\",\n",
    "                        delimiter=\"\\t\",header=None)\n",
    "        barcodes_2= barcodes_2.rename(columns={barcodes_2.columns[0]:\"cell_barcode\"})\n",
    "\n",
    "        barcodes_1 = pd.read_csv(r\"C:\\Users\\saira\\OneDrive\\Desktop\\research\\datasets\\pbmc_perturb\\sampleA_unstimulated\\GSM2560248_barcodes.tsv.gz\",\n",
    "                        delimiter=\"\\t\",header=None)\n",
    "        barcodes_1= barcodes_1.rename(columns={barcodes_1.columns[0]:\"cell_barcode\"})\n",
    "        #######\n",
    "        ###\n",
    "        adata_stimulated.obs_names = barcodes_2[\"cell_barcode\"].values\n",
    "        adata_unstimulated.obs_names = barcodes_1[\"cell_barcode\"].values\n",
    "        ###\n",
    "        adata_unstimulated.var_names = gene_names_2[\"geneID\"].values\n",
    "        adata_stimulated.var_names = gene_names_2[\"geneID\"].values\n",
    "        ###\n",
    "        unpertcell_specific_data = pd.read_csv(\n",
    "            r\"C:\\Users\\saira\\OneDrive\\Desktop\\research\\datasets\\pbmc_perturb\\sampleA_unstimulated\\GSE96583_batch1.total.tsne.df.tsv.gz\",\n",
    "            delimiter=\"\\t\"\n",
    "        )\n",
    "        pertcell_specific_data = pd.read_csv(\n",
    "            r\"C:\\Users\\saira\\OneDrive\\Desktop\\research\\datasets\\pbmc_perturb\\sampleB_stimulated\\GSE96583_batch2.total.tsne.df.tsv.gz\",\n",
    "            delimiter=\"\\t\"\n",
    "        )\n",
    "        common_barcodes = adata_stimulated.obs_names.intersection(pertcell_specific_data.index)\n",
    "        adata_stimulated = adata_stimulated[adata_stimulated.obs_names.isin(common_barcodes)]\n",
    "        aligned_data = pertcell_specific_data.loc[common_barcodes]\n",
    "        adata_stimulated.obs = aligned_data\n",
    "\n",
    "        common_barcodes = adata_unstimulated.obs_names.intersection(unpertcell_specific_data.index)\n",
    "        \n",
    "        adata_unstimulated = adata_unstimulated[adata_unstimulated.obs_names.isin(common_barcodes)]\n",
    "        aligned_data = unpertcell_specific_data.loc[common_barcodes]\n",
    "        adata_unstimulated.obs = aligned_data\n",
    "        print(common_barcodes)\n",
    "    return adata_stimulated,adata_unstimulated"
   ]
  },
  {
   "cell_type": "code",
   "execution_count": null,
   "metadata": {},
   "outputs": [],
   "source": [
    "adata_pert,adata_unpert = load_data(\"pbmc\")"
   ]
  },
  {
   "cell_type": "code",
   "execution_count": 18,
   "metadata": {},
   "outputs": [
    {
     "name": "stdout",
     "output_type": "stream",
     "text": [
      "AnnData object with n_obs × n_vars = 14619 × 35635\n"
     ]
    }
   ],
   "source": [
    "adata_unstimulated = sc.read_mtx(\"../datasets/pbmc_perturb/sample2.1/GSM2560248_2.1.mtx.gz\").T\n",
    "print(adata_unstimulated)"
   ]
  },
  {
   "cell_type": "code",
   "execution_count": 19,
   "metadata": {},
   "outputs": [
    {
     "name": "stdout",
     "output_type": "stream",
     "text": [
      "           cell_barcode\n",
      "0      AAACATACAATGCC-1\n",
      "1      AAACATACATTTCC-1\n",
      "2      AAACATACCAGAAA-1\n",
      "3      AAACATACCAGCTA-1\n",
      "4      AAACATACCATGCA-1\n",
      "...                 ...\n",
      "14614  TTTGCATGCTTCGC-1\n",
      "14615  TTTGCATGGCAGTT-1\n",
      "14616  TTTGCATGGGAACG-1\n",
      "14617  TTTGCATGGTCCTC-1\n",
      "14618  TTTGCATGTTCATC-1\n",
      "\n",
      "[14619 rows x 1 columns]\n"
     ]
    }
   ],
   "source": [
    "\n",
    "barcodes_1 = pd.read_csv(r\"C:\\Users\\saira\\OneDrive\\Desktop\\research\\datasets\\pbmc_perturb\\sample2.1\\GSM2560248_barcodes.tsv.gz\",\n",
    "                        delimiter=\"\\t\",header=None)\n",
    "barcodes_1= barcodes_1.rename(columns={barcodes_1.columns[0]:\"cell_barcode\"})\n",
    "print(barcodes_1)"
   ]
  },
  {
   "cell_type": "code",
   "execution_count": null,
   "metadata": {},
   "outputs": [],
   "source": [
    "\n",
    "print(unpertcell_specific_data.index.intersection(barcodes_1[\"cell_barcode\"]))"
   ]
  },
  {
   "cell_type": "code",
   "execution_count": 11,
   "metadata": {},
   "outputs": [
    {
     "name": "stderr",
     "output_type": "stream",
     "text": [
      "c:\\Users\\saira\\anaconda3\\envs\\Pytorch\\Lib\\site-packages\\anndata\\compat\\__init__.py:329: FutureWarning: Moving element from .uns['neighbors']['distances'] to .obsp['distances'].\n",
      "\n",
      "This is where adjacency matrices should go now.\n",
      "  warn(\n",
      "c:\\Users\\saira\\anaconda3\\envs\\Pytorch\\Lib\\site-packages\\anndata\\compat\\__init__.py:329: FutureWarning: Moving element from .uns['neighbors']['connectivities'] to .obsp['connectivities'].\n",
      "\n",
      "This is where adjacency matrices should go now.\n",
      "  warn(\n"
     ]
    }
   ],
   "source": [
    "import scanpy as sc\n",
    "train_adata = sc.read_h5ad(r\"C:\\Users\\saira\\OneDrive\\Desktop\\research\\datasets\\perturb\\train_pbmc.h5ad\")\n"
   ]
  },
  {
   "cell_type": "code",
   "execution_count": 146,
   "metadata": {},
   "outputs": [],
   "source": [
    "unpertcell_specific_data = pd.read_csv(\n",
    "    r\"C:\\Users\\saira\\OneDrive\\Desktop\\research\\datasets\\pbmc_perturb\\sampleA_unstimulated\\GSE96583_batch1.total.tsne.df.tsv.gz\",\n",
    "    delimiter=\"\\t\"\n",
    ")\n",
    "pertcell_specific_data = pd.read_csv(\n",
    "    r\"C:\\Users\\saira\\OneDrive\\Desktop\\research\\datasets\\pbmc_perturb\\sampleB_stimulated\\GSE96583_batch2.total.tsne.df.tsv.gz\",\n",
    "    delimiter=\"\\t\"\n",
    ")"
   ]
  },
  {
   "cell_type": "code",
   "execution_count": 149,
   "metadata": {},
   "outputs": [
    {
     "name": "stdout",
     "output_type": "stream",
     "text": [
      "Index(['AAACATACCAAGCT-1', 'AAACATACCCCTAC-1', 'AAACATACCCGTAA-1',\n",
      "       'AAACATACCCTCGT-1', 'AAACATACGAGGTG-1', 'AAACATACGCGAAG-1',\n",
      "       'AAACATACGTCGTA-1', 'AAACATACGTTGCA-1', 'AAACATACTATGGC-1',\n",
      "       'AAACATACTCAGGT-1',\n",
      "       ...\n",
      "       'TTTGCATGAGTGTC-1', 'TTTGCATGCATGAC-1', 'TTTGCATGCCTGAA-1',\n",
      "       'TTTGCATGCCTGTC-1', 'TTTGCATGCCTTAT-1', 'TTTGCATGCTAAGC-1',\n",
      "       'TTTGCATGGGACGA-1', 'TTTGCATGGTGAGG-1', 'TTTGCATGGTTTGG-1',\n",
      "       'TTTGCATGTCTTAC-1'],\n",
      "      dtype='object', length=14446)\n"
     ]
    }
   ],
   "source": [
    "# Find the common barcodes\n",
    "common_barcodes = adata_pert.obs_names.intersection(pertcell_specific_data.index)\n",
    "print(common_barcodes)\n",
    "# Filter adata_pert and reindex pertcell_specific_data\n",
    "adata_pert = adata_pert[adata_pert.obs_names.isin(common_barcodes)]\n",
    "aligned_data = pertcell_specific_data.loc[common_barcodes]\n",
    "\n",
    "# Assign the filtered data to adata_pert.obs\n",
    "adata_pert.obs = aligned_data\n"
   ]
  },
  {
   "cell_type": "code",
   "execution_count": 86,
   "metadata": {},
   "outputs": [
    {
     "name": "stderr",
     "output_type": "stream",
     "text": [
      "C:\\Users\\saira\\AppData\\Local\\Temp\\ipykernel_30660\\1143154713.py:1: ParserWarning: Falling back to the 'python' engine because the 'c' engine does not support regex separators (separators > 1 char and different from '\\s+' are interpreted as regex); you can avoid this warning by specifying engine='python'.\n",
      "  gene_names = pd.read_csv(\"../datasets/pbmc_perturb/GSE96583_genes.txt.gz\",delimiter='\"\"')\n"
     ]
    },
    {
     "name": "stdout",
     "output_type": "stream",
     "text": [
      "                gene_id\n",
      "\"1      ENSG00000243485\n",
      "\"2      ENSG00000237613\n",
      "\"3      ENSG00000186092\n",
      "\"4      ENSG00000238009\n",
      "\"5      ENSG00000239945\n",
      "...                 ...\n",
      "\"32734  ENSG00000215635\n",
      "\"32735  ENSG00000268590\n",
      "\"32736  ENSG00000251180\n",
      "\"32737  ENSG00000215616\n",
      "\"32738  ENSG00000215611\n",
      "\n",
      "[32738 rows x 1 columns]\n"
     ]
    }
   ],
   "source": [
    "gene_names = pd.read_csv(\"../datasets/pbmc_perturb/GSE96583_genes.txt.gz\",delimiter='\"\"')\n",
    "gene_names.columns = [\"gene_id\"]\n",
    "gene_names[\"gene_id\"] = gene_names[\"gene_id\"].str.replace(r'[\"\\,]', '', regex=True)\n",
    "print(gene_names)"
   ]
  },
  {
   "cell_type": "code",
   "execution_count": null,
   "metadata": {},
   "outputs": [
    {
     "name": "stdout",
     "output_type": "stream",
     "text": [
      "                geneID      geneName\n",
      "0      ENSG00000237613       FAM138A\n",
      "1      ENSG00000186092         OR4F5\n",
      "2      ENSG00000238009  RP11-34P13.7\n",
      "3      ENSG00000239945  RP11-34P13.8\n",
      "4      ENSG00000237683    AL627309.1\n",
      "...                ...           ...\n",
      "35629  ENSG00000212907       MT-ND4L\n",
      "35630  ENSG00000198886        MT-ND4\n",
      "35631  ENSG00000198786        MT-ND5\n",
      "35632  ENSG00000198695        MT-ND6\n",
      "35633  ENSG00000198727        MT-CYB\n",
      "\n",
      "[35634 rows x 2 columns]\n"
     ]
    }
   ],
   "source": [
    "gene_names_2 =pd.read_csv(r\"C:\\Users\\saira\\OneDrive\\Desktop\\research\\datasets\\pbmc_perturb\\sampleB_stimulated\\GSE96583_batch2.genes.tsv.gz\",delimiter=\"\\t\",\n",
    "                          )\n",
    "gene_names_2 = gene_names_2.rename(columns={\n",
    "            gene_names_2.columns[0]:\"geneID\",\n",
    "            gene_names_2.columns[1]:\"geneName\"\n",
    "        })\n",
    "print(gene_names_2)"
   ]
  },
  {
   "cell_type": "code",
   "execution_count": 72,
   "metadata": {},
   "outputs": [
    {
     "name": "stdout",
     "output_type": "stream",
     "text": [
      "       AAACATACAATGCC-1\n",
      "0      AAACATACATTTCC-1\n",
      "1      AAACATACCAGAAA-1\n",
      "2      AAACATACCAGCTA-1\n",
      "3      AAACATACCATGCA-1\n",
      "4      AAACATACCTCGCT-1\n",
      "...                 ...\n",
      "14613  TTTGCATGCTTCGC-1\n",
      "14614  TTTGCATGGCAGTT-1\n",
      "14615  TTTGCATGGGAACG-1\n",
      "14616  TTTGCATGGTCCTC-1\n",
      "14617  TTTGCATGTTCATC-1\n",
      "\n",
      "[14618 rows x 1 columns]\n"
     ]
    }
   ],
   "source": [
    "barcodes_1 = pd.read_csv(r\"C:\\Users\\saira\\OneDrive\\Desktop\\research\\datasets\\pbmc_perturb\\sampleA_unstimulated\\GSM2560248_barcodes.tsv.gz\"\n",
    "                         ,delimiter=\"\\t\")\n",
    "print(barcodes_1)"
   ]
  },
  {
   "cell_type": "code",
   "execution_count": 77,
   "metadata": {},
   "outputs": [
    {
     "name": "stdout",
     "output_type": "stream",
     "text": [
      "                      tsne1      tsne2 batch  cluster multiplets  \\\n",
      "AAACATACCACTCC-1  12.162803  31.834905     A        8    singlet   \n",
      "AAACATACCGCTAA-1  35.191503  -4.126653     A        6    singlet   \n",
      "AAACATACTAACGC-1 -14.712790  19.761093     A        7    singlet   \n",
      "AAACATACTTATCC-1   1.233545 -39.179963     A       10    singlet   \n",
      "AAACATTGCATGGT-1   4.654516   9.923796     A        4       ambs   \n",
      "...                     ...        ...   ...      ...        ...   \n",
      "TTTGACTGTGCCCT-1  12.338062  36.169476     C        8    singlet   \n",
      "TTTGCATGAGCATC-1  -9.672088 -33.119635     C       10    singlet   \n",
      "TTTGCATGCATTGG-1 -17.505646  -1.639125     C        2    singlet   \n",
      "TTTGCATGTATCGG-1 -21.245921 -26.704309     C       10    singlet   \n",
      "TTTGCATGTTTCTG-1  36.162390  -7.801121     C        6    singlet   \n",
      "\n",
      "                        cell.type     ind  \n",
      "AAACATACCACTCC-1          B cells  1079.0  \n",
      "AAACATACCGCTAA-1  CD14+ Monocytes  1154.0  \n",
      "AAACATACTAACGC-1      CD8 T cells  1154.0  \n",
      "AAACATACTTATCC-1      CD4 T cells  1079.0  \n",
      "AAACATTGCATGGT-1   Megakaryocytes  1598.0  \n",
      "...                           ...     ...  \n",
      "TTTGACTGTGCCCT-1          B cells  1493.0  \n",
      "TTTGCATGAGCATC-1      CD4 T cells  1085.0  \n",
      "TTTGCATGCATTGG-1      CD4 T cells  1249.0  \n",
      "TTTGCATGTATCGG-1      CD4 T cells  1493.0  \n",
      "TTTGCATGTTTCTG-1  CD14+ Monocytes  1493.0  \n",
      "\n",
      "[14030 rows x 7 columns]\n"
     ]
    }
   ],
   "source": [
    "barcodes_1 = pd.read_csv(\n",
    "    r\"C:\\Users\\saira\\OneDrive\\Desktop\\research\\datasets\\pbmc_perturb\\sampleA_unstimulated\\GSE96583_batch1.total.tsne.df.tsv.gz\",\n",
    "    delimiter=\"\\t\"\n",
    ")\n",
    "barcodes_2 = pd.read_csv(\n",
    "    r\"C:\\Users\\saira\\OneDrive\\Desktop\\research\\datasets\\pbmc_perturb\\sampleB_stimulated\\GSE96583_batch2.total.tsne.df.tsv.gz\",\n",
    "    delimiter=\"\\t\"\n",
    ")\n",
    "print(barcodes_1)"
   ]
  },
  {
   "cell_type": "code",
   "execution_count": null,
   "metadata": {},
   "outputs": [],
   "source": []
  },
  {
   "cell_type": "code",
   "execution_count": null,
   "metadata": {},
   "outputs": [],
   "source": []
  },
  {
   "cell_type": "code",
   "execution_count": 5,
   "metadata": {},
   "outputs": [
    {
     "name": "stderr",
     "output_type": "stream",
     "text": [
      "/home/saigum/anaconda3/envs/singleseq/lib/python3.12/site-packages/anndata/compat/__init__.py:311: FutureWarning: Moving element from .uns['neighbors']['distances'] to .obsp['distances'].\n",
      "\n",
      "This is where adjacency matrices should go now.\n",
      "  warn(\n",
      "/home/saigum/anaconda3/envs/singleseq/lib/python3.12/site-packages/anndata/compat/__init__.py:311: FutureWarning: Moving element from .uns['neighbors']['connectivities'] to .obsp['connectivities'].\n",
      "\n",
      "This is where adjacency matrices should go now.\n",
      "  warn(\n",
      "/home/saigum/anaconda3/envs/singleseq/lib/python3.12/site-packages/anndata/compat/__init__.py:311: FutureWarning: Moving element from .uns['neighbors']['distances'] to .obsp['distances'].\n",
      "\n",
      "This is where adjacency matrices should go now.\n",
      "  warn(\n",
      "/home/saigum/anaconda3/envs/singleseq/lib/python3.12/site-packages/anndata/compat/__init__.py:311: FutureWarning: Moving element from .uns['neighbors']['connectivities'] to .obsp['connectivities'].\n",
      "\n",
      "This is where adjacency matrices should go now.\n",
      "  warn(\n"
     ]
    }
   ],
   "source": [
    "import scanpy as sc\n",
    "import torch\n",
    "train_data_path = \"train_pbmc.h5ad\"\n",
    "val_data_path   = \"valid_pbmc.h5ad\"\n",
    "\n",
    "# Read Anndata\n",
    "train_adata = sc.read_h5ad(train_data_path)\n",
    "val_adata   = sc.read_h5ad(val_data_path)\n",
    "\n",
    "# 1) Highly Variable Gene Selection on the train set\n",
    "#    to ensure we select the same HVGs for train and val.\n",
    "#    We'll pick e.g. top 2000 HVGs from train_adata.\n",
    "sc.pp.highly_variable_genes(train_adata, flavor=\"seurat\", n_top_genes=2000)\n",
    "\n",
    "# Subset train_adata to only HVGs\n",
    "train_adata = train_adata[:, train_adata.var['highly_variable']]\n",
    "\n",
    "# Subset val_adata to the same HVGs (intersection on gene names)\n",
    "val_adata = val_adata[:, train_adata.var_names]\n",
    "\n",
    "\n",
    "X_train = torch.tensor(train_adata.X.toarray(), dtype=torch.float32)\n",
    "X_val   = torch.tensor(val_adata.X.toarray(), dtype=torch.float32)\n",
    "\n",
    "\n",
    "# Identify which cells are \"stimulated\" or \"unstimulated\".\n",
    "# For simplicity, we'll assume:\n",
    "#   - train_adata.obs['condition'] in {'stimulated','control'}\n",
    "#   - val_adata.obs['condition']   in {'stimulated','control'}\n",
    "# Adjust to your actual metadata columns accordingly.\n",
    "train_pert_mask = (train_adata.obs['condition'] == 'stimulated').values\n",
    "train_ctrl_mask = (train_adata.obs['condition'] == 'control').values\n",
    "\n",
    "val_pert_mask = (val_adata.obs['condition'] == 'stimulated').values\n",
    "val_ctrl_mask = (val_adata.obs['condition'] == 'control').values\n"
   ]
  },
  {
   "cell_type": "code",
   "execution_count": 9,
   "metadata": {},
   "outputs": [
    {
     "data": {
      "text/plain": [
       "1039"
      ]
     },
     "execution_count": 9,
     "metadata": {},
     "output_type": "execute_result"
    }
   ],
   "source": []
  },
  {
   "cell_type": "code",
   "execution_count": null,
   "metadata": {},
   "outputs": [],
   "source": []
  }
 ],
 "metadata": {
  "kernelspec": {
   "display_name": "singleseq",
   "language": "python",
   "name": "python3"
  },
  "language_info": {
   "codemirror_mode": {
    "name": "ipython",
    "version": 3
   },
   "file_extension": ".py",
   "mimetype": "text/x-python",
   "name": "python",
   "nbconvert_exporter": "python",
   "pygments_lexer": "ipython3",
   "version": "3.12.4"
  }
 },
 "nbformat": 4,
 "nbformat_minor": 2
}
